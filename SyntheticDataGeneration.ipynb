{
  "nbformat": 4,
  "nbformat_minor": 0,
  "metadata": {
    "colab": {
      "name": "SyntheticDataGeneration.ipynb",
      "provenance": [],
      "machine_shape": "hm",
      "mount_file_id": "11FPikrSceU_4I3BdzrRnI8ztlqAbaRT2",
      "authorship_tag": "ABX9TyNQ25QmRq4ix694tQnOoS2I",
      "include_colab_link": true
    },
    "kernelspec": {
      "name": "python3",
      "display_name": "Python 3"
    },
    "language_info": {
      "name": "python"
    },
    "accelerator": "GPU",
    "gpuClass": "standard"
  },
  "cells": [
    {
      "cell_type": "markdown",
      "metadata": {
        "id": "view-in-github",
        "colab_type": "text"
      },
      "source": [
        "<a href=\"https://colab.research.google.com/github/leoqzm/EntityBert-Synthetic_Data/blob/main/SyntheticDataGeneration.ipynb\" target=\"_parent\"><img src=\"https://colab.research.google.com/assets/colab-badge.svg\" alt=\"Open In Colab\"/></a>"
      ]
    },
    {
      "cell_type": "code",
      "source": [
        "!wget -c https://repo.continuum.io/archive/Anaconda3-5.1.0-Linux-x86_64.sh\n",
        "\n",
        "!chmod +x Anaconda3-5.1.0-Linux-x86_64.sh\n",
        "\n",
        "!bash ./Anaconda3-5.1.0-Linux-x86_64.sh -b -f -p /usr/local\n",
        "\n"
      ],
      "metadata": {
        "id": "O3GgiVtQkF3s"
      },
      "execution_count": null,
      "outputs": []
    },
    {
      "cell_type": "code",
      "source": [
        "!conda update conda -y -q\n",
        "!source /usr/local/etc/profile.d/conda.sh\n",
        "!conda init \n",
        "!conda install -n root _license -y -q\n"
      ],
      "metadata": {
        "id": "WoFKBglvj1so"
      },
      "execution_count": null,
      "outputs": []
    },
    {
      "cell_type": "code",
      "execution_count": null,
      "metadata": {
        "id": "wpP9hAXyagRA"
      },
      "outputs": [],
      "source": [
        "!conda env create -f /content/drive/MyDrive/transformer-models-trained-on-mimic-iii-to-generate-synthetic-patient-notes-1.0.0/environment.yml"
      ]
    },
    {
      "cell_type": "code",
      "source": [
        "!export CUDA_VISIBLE_DEVICES=0"
      ],
      "metadata": {
        "id": "XylU1zpMhAGY"
      },
      "execution_count": null,
      "outputs": []
    },
    {
      "cell_type": "code",
      "source": [
        "!source activate mimic-discharge-summaries && conda env list\n"
      ],
      "metadata": {
        "colab": {
          "base_uri": "https://localhost:8080/"
        },
        "id": "m70ua7K00quS",
        "outputId": "fa9a1505-4e23-4064-86ac-a88c794ff5ab"
      },
      "execution_count": null,
      "outputs": [
        {
          "output_type": "stream",
          "name": "stdout",
          "text": [
            "# conda environments:\n",
            "#\n",
            "base                     /usr/local\n",
            "mimic-discharge-summaries  *  /usr/local/envs/mimic-discharge-summaries\n",
            "\n"
          ]
        }
      ]
    },
    {
      "cell_type": "code",
      "source": [
        "%%bash\n",
        "source activate mimic-discharge-summaries\n",
        "\n",
        "#!/bin/bash\n",
        "\n",
        "cd /content/drive/MyDrive/transformer-models-trained-on-mimic-iii-to-generate-synthetic-patient-notes-1.0.0/transformer\n",
        "\n",
        "TEST_FILE=../Patients_Notevents3.txt\n",
        "PROBLEM=mimic_discharge_summaries\n",
        "MODEL=transformer\n",
        "HPARAMS=transformer_base\n",
        "DATA_DIR=./data\n",
        "TRAIN_DIR=./output\n",
        "USR_DIR=.\n",
        "\n",
        "BEAM_SIZE=4\n",
        "ALPHA=0.6\n",
        "DBS=4\n",
        "EXTRA_LEN=50\n",
        "HPARAMS_OVERRIDE=\"max_length=10000,max_target_seq_length=512,max_input_seq_length=512\"\n",
        "\n",
        "t2t-decoder \\\n",
        "    --t2t_usr_dir=$USR_DIR \\\n",
        "    --data_dir=$DATA_DIR \\\n",
        "    --problem=$PROBLEM \\\n",
        "    --model=$MODEL \\\n",
        "    --hparams_set=$HPARAMS \\\n",
        "    --hparams=$HPARAMS_OVERRIDE \\\n",
        "    --output_dir=$TRAIN_DIR \\\n",
        "    --decode_hparams=\"beam_size=$BEAM_SIZE,alpha=$ALPHA,batch_size=$DBS,extra_length=$EXTRA_LEN\" \\\n",
        "    --decode_from_file=$TEST_FILE \\\n",
        "    --decode_to_file=../output3patiants.txt"
      ],
      "metadata": {
        "id": "8WYxW-1C3lNp"
      },
      "execution_count": null,
      "outputs": []
    }
  ]
}